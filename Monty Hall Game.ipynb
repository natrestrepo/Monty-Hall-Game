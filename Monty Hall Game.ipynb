{
  "cells": [
    {
      "cell_type": "markdown",
      "metadata": {
        "colab_type": "text",
        "id": "y8F-5tMKTQjL"
      },
      "source": [
        "## Assignment 2"
      ]
    },
    {
      "cell_type": "markdown",
      "metadata": {
        "colab_type": "text",
        "id": "07Y_ONdkTQjR"
      },
      "source": [
        "This assignmemt is based on content discussed in module 2 and will work on a solution for the famous Monty Hall game.  Retrieved from https://en.wikipedia.org/wiki/Monty_Hall_problem\n"
      ]
    },
    {
      "cell_type": "markdown",
      "metadata": {
        "colab_type": "text",
        "id": "7hNSzgdzTQjU"
      },
      "source": [
        "## Learning outcomes"
      ]
    },
    {
      "cell_type": "markdown",
      "metadata": {
        "colab_type": "text",
        "id": "2QtRX9sRTQjX"
      },
      "source": [
        "- Program a simple simulation to solve a concrete statistical problem\n",
        "- Develop insight into the Bayesian probabilistic viewpoint\n",
        "- Recognize that statistical intuition can sometimes be wrong\n"
      ]
    },
    {
      "cell_type": "markdown",
      "metadata": {
        "colab_type": "text",
        "id": "lfLffNUWTQja"
      },
      "source": [
        "**Question**\n",
        "\n",
        "Given below is the description of the problem.  \n",
        "\n",
        "Suppose you're on a game show and you're given the choice of three doors. \n",
        "\n",
        "Behind one door is a car; behind the others, goats. The car and the goats were placed randomly behind the doors before the show.\n",
        "\n",
        "The rules are:\n",
        "\n",
        "After you have chosen a door, the door remains closed for the time being. \n",
        "The game show host, Monty Hall, who knows what is behind the doors, now has to open one of the two remaining doors, and the door he opens must have a goat behind it. If both remaining doors have goats behind them, he chooses one randomly. \n",
        "\n",
        "After Monty opens a door with a goat, he will ask you to decide whether you want to stay with your first choice or to switch to the last remaining door. \n",
        "Imagine that you chose Door 1 and the host opens Door 3, which has a goat. \n",
        "He then asks you \"Do you want to switch to Door Number 2?\" Is it to your advantage to change your choice? \n",
        "\n",
        "**NOTES:**\n",
        "1. The player may initially choose any of the three doors (not just Door 1).\n",
        "2. The host opens a different door revealing a goat (not necessarily Door 3).\n",
        "3. The host gives the player a second choice between the two remaining unopened doors. \n"
      ]
    },
    {
      "attachments": {
        "download.jpeg": {
          "image/jpeg": "[encoded data removed]"
        }
      },
      "cell_type": "markdown",
      "metadata": {
        "colab_type": "text",
        "id": "L041acdjTQjb"
      },
      "source": [
        "![download.jpeg](attachment:download.jpeg)\n",
        "\n",
        "(Source: https://en.wikipedia.org/wiki/Monty_Hall_problem#)"
      ]
    },
    {
      "cell_type": "markdown",
      "metadata": {
        "colab_type": "text",
        "id": "dAuGtwxzTQje"
      },
      "source": [
        "- Write Python code to solve the Monty Hall problem. Simulate at least a thousand games using three doors for each strategy and show the results in such a way as to make it easy to compare the effects of each strategy.\n"
      ]
    },
    {
      "cell_type": "code",
      "execution_count": 1,
      "metadata": {},
      "outputs": [
        {
          "name": "stdout",
          "output_type": "stream",
          "text": [
            "The probability of winning a car if the participant decides to not change his initial choice is: 0.313 \n",
            "Whereas the probability of winning if the participant changes his initial choice is: 0.687\n"
          ]
        },
        {
          "data": {
            "image/png": "[encoded data removed]",
            "text/plain": [
              "<Figure size 504x360 with 1 Axes>"
            ]
          },
          "metadata": {
            "needs_background": "light"
          },
          "output_type": "display_data"
        }
      ],
      "source": [
        "import random\n",
        "import matplotlib.pyplot as plt\n",
        "%matplotlib inline \n",
        "\n",
        "#Initial variables\n",
        "n = 1000\n",
        "notswitching_wins = 0\n",
        "switching_wins = 0\n",
        "\n",
        "doors = [1,2,3]\n",
        "behind_doors = ['car','goat','goat']\n",
        "\n",
        "for i in range(n):\n",
        "    random.shuffle(behind_doors) #Shuffling the awards behind the door randomly\n",
        "    game = dict(zip(doors, behind_doors)) #Assigning an award to a door in a dictionary\n",
        "\n",
        "    participant_door = random.choice(doors) #Participant randomly chooses a door\n",
        "    participant_choice = game[participant_door] #Keeping in a variable the first choice of the participant\n",
        "\n",
        "    game.pop(participant_door) #Removing participant's door/award from the game\n",
        "\n",
        "    for door, award in game.items(): #Choosing the door the host will reveal\n",
        "        if award == 'goat': #Door revealed by the host will always be a goat\n",
        "            host = door #There will always be at least one goat behind one of the doors left, thus, the host variable keeps either the only goat key left or the last one if both options left were goats\n",
        "\n",
        "    # Not switching scenario\n",
        "    if participant_choice=='car': #The participant remains with its original award and we count how many of them were a car (win)\n",
        "        notswitching_wins = notswitching_wins+1\n",
        "\n",
        "    # Switching scenario\n",
        "    game.pop(host) #Eliminating the host choice and counting the times the remaining door/award was a car as if the participant changed the decision    \n",
        "    if list(game.values())[0]=='car':\n",
        "        switching_wins = switching_wins+1\n",
        "    \n",
        "p_notswitching = notswitching_wins/n\n",
        "p_switching = switching_wins/n\n",
        "\n",
        "choices = ['Not switching','Switching']\n",
        "wins= [notswitching_wins,switching_wins]\n",
        "\n",
        "print('The probability of winning a car if the participant decides to not change his initial choice is:',p_notswitching, '\\nWhereas the probability of winning if the participant changes his initial choice is:',p_switching)\n",
        "\n",
        "# Creating the bar plot\n",
        "fig = plt.figure(figsize = (7, 5))\n",
        "plt.bar(choices, wins)\n",
        "plt.ylim([0,n])\n",
        "plt.xlabel(\"Participant choice\")\n",
        "plt.ylabel(\"No. of winning cases\")\n",
        "plt.title(\"Not Switching Vs Switching in Monty Hall game\")\n",
        "plt.show()"
      ]
    },
    {
      "cell_type": "code",
      "execution_count": null,
      "metadata": {},
      "outputs": [],
      "source": []
    }
  ],
  "metadata": {
    "colab": {
      "name": "Assignment 2.ipynb",
      "provenance": [],
      "version": "0.3.2"
    },
    "kernelspec": {
      "display_name": "Python 3",
      "language": "python",
      "name": "python3"
    },
    "language_info": {
      "codemirror_mode": {
        "name": "ipython",
        "version": 3
      },
      "file_extension": ".py",
      "mimetype": "text/x-python",
      "name": "python",
      "nbconvert_exporter": "python",
      "pygments_lexer": "ipython3",
      "version": "3.8.5"
    }
  },
  "nbformat": 4,
  "nbformat_minor": 1
}